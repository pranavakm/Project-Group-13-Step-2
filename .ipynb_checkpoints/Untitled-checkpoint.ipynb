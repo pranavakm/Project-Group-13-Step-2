{
 "cells": [
  {
   "cell_type": "code",
   "execution_count": 27,
   "id": "69fd0c3a",
   "metadata": {},
   "outputs": [],
   "source": [
    "import unittest\n",
    "from unittest.mock import patch\n",
    "from unittest import mock\n",
    "from io import StringIO\n",
    "import pandas as pd\n",
    "from projecttracker.management.operations import Operations, Project, Task\n",
    "from projecttracker.utils import file_handler\n",
    "\n",
    "class TestProjectModule(unittest.TestCase):\n",
    "    @classmethod\n",
    "    def setUpClass(cls):\n",
    "        # Perform setup tasks that apply to the entire test class\n",
    "        cls.operations_instance = Operations()\n",
    "\n",
    "    def setUp(self):\n",
    "        # Perform setup tasks that apply to each individual test case\n",
    "        self.new_project = self.operations_instance.add_proj(\n",
    "            Name=\"Test Project\",\n",
    "            Priority=\"High\",\n",
    "            Duration=2,\n",
    "            Comments=\"Testing project addition\",\n",
    "            assignedTo=\"Team A\",\n",
    "            startDate=\"2023-01-01\",\n",
    "            Deadline=\"2023-01-15\",\n",
    "            Owner=\"John Doe\"\n",
    "        )\n",
    "        \n",
    "        self.new_task = self.operations_instance.add_task(\n",
    "            projectID=self.new_project.projectID,\n",
    "            Name=\"Test Task\",\n",
    "            Priority=\"High\",\n",
    "            Duration=1,\n",
    "            Comments=\"Testing task addition\",\n",
    "            assignedTo=\"User 1\",\n",
    "            startDate=\"2023-01-02\",\n",
    "            Deadline=\"2023-01-08\"\n",
    "        )\n",
    "\n",
    "    def tearDown(self):\n",
    "        file_handler.delete_all_objects('project.json')\n",
    "        file_handler.delete_all_objects('task.json')\n",
    "\n",
    "    @classmethod\n",
    "    def tearDownClass(cls):\n",
    "        # Perform cleanup tasks that apply to the entire test class\n",
    "        pass\n",
    "\n",
    "    def test_add_proj(self):\n",
    "        self.assertEqual(self.new_project.projectName, \"Test Project\")\n",
    "        self.assertEqual(self.new_project.projectStatus, \"Not Started\")\n",
    "        self.assertEqual(self.new_project.projectPriority, \"High\")\n",
    "        self.assertEqual(self.new_project.projectOwner, \"John Doe\")\n",
    "\n",
    "    def test_add_task(self):\n",
    "        self.assertEqual(self.new_task.taskName, \"Test Task\")\n",
    "        self.assertEqual(self.new_task.taskStatus, \"Not Started\")\n",
    "        self.assertEqual(self.new_task.taskPriority, \"High\")\n",
    "        self.assertEqual(self.new_task.assignedToTask, \"User 1\")\n",
    "    \n",
    "    @patch('builtins.input', side_effect=['P0001', 'projectName', 'Modified Project', 'Y', 'projectPriority', 'Medium', 'Y', 'projectOwner', 'Owner 2', 'Y', 'projectDuration', 12, 'N'])\n",
    "    @patch('sys.stdout', new_callable=StringIO)\n",
    "    def test_modify_proj(self, mock_stdout, mock_input):\n",
    "        self.operations_instance.modify_item()\n",
    "        project_list = file_handler.read_from_json('project.json')\n",
    "        proj1 = project_list[0]\n",
    "        self.assertEqual(proj1['projectName'], 'Modified Project')\n",
    "        self.assertEqual(proj1['projectPriority'], 'Medium')\n",
    "        self.assertEqual(proj1['projectOwner'], 'Owner 2')\n",
    "        self.assertEqual(proj1['projectDuration'], 12)\n",
    "\n",
    "    @patch('builtins.input', side_effect=['P0001', 'Y'])\n",
    "    @patch('sys.stdout', new_callable=StringIO)\n",
    "    def test_delete_proj(self, mock_stdout, mock_input):\n",
    "        proj_list = file_handler.read_from_json('project.json')\n",
    "        proj1 = proj_list[0]\n",
    "        \n",
    "        deleted_project_id = self.operations_instance.delete_item()\n",
    "        self.assertEqual(deleted_project_id, self.new_project.projectID)\n",
    "        \n",
    "        project_list = file_handler.read_from_json('project.json')\n",
    "        self.assertEqual(len(project_list), 0) \n",
    "        self.assertNotIn(proj1, project_list)  \n",
    "    \n",
    "    @patch('builtins.input', side_effect=['T0001', 'taskName', 'Modified Task', 'Y', 'taskPriority', 'Low', 'Y', 'assignedToTask', 'Task Person 2', 'Y', 'taskDuration', 8, 'N'])\n",
    "    @patch('sys.stdout', new_callable=StringIO)\n",
    "    def test_modify_task(self, mock_stdout, mock_input):\n",
    "        self.operations_instance.modify_item()\n",
    "        task_list = file_handler.read_from_json('task.json')\n",
    "        task1 = task_list[0]\n",
    "        self.assertEqual(task1['taskName'], 'Modified Task')\n",
    "        self.assertEqual(task1['taskPriority'], 'Low')\n",
    "        self.assertEqual(task1['assignedToTask'], 'Task Person 2')\n",
    "        self.assertEqual(task1['taskDuration'], 8)\n",
    "\n",
    "    @patch('builtins.input', side_effect=['T0001', 'Y'])\n",
    "    @patch('sys.stdout', new_callable=StringIO)\n",
    "    def test_delete_task(self, mock_stdout, mock_input):\n",
    "        t_list = file_handler.read_from_json('task.json')\n",
    "        task1 = t_list[0]\n",
    "        \n",
    "        deleted_task_id = self.operations_instance.delete_item()\n",
    "        self.assertEqual(deleted_task_id, self.new_task.taskID)\n",
    "        \n",
    "        task_list = file_handler.read_from_json('task.json')\n",
    "        self.assertEqual(len(task_list), 0) \n",
    "        self.assertNotIn(task1, task_list)\n",
    "    \n",
    "    def test_view(self):\n",
    "        df = self.operations_instance.view()\n",
    "        self.assertTrue(isinstance(df, pd.DataFrame))\n",
    "        self.assertFalse(df.empty)\n",
    "        self.assertIn(self.new_project.projectID, df['projectID'].values)\n",
    "        self.assertIn(self.new_task.taskID, df['taskID'].values)"
   ]
  },
  {
   "cell_type": "code",
   "execution_count": 28,
   "id": "91ce85a1",
   "metadata": {
    "scrolled": false
   },
   "outputs": [
    {
     "name": "stderr",
     "output_type": "stream",
     "text": [
      "ok\n",
      "test_view (__main__.TestProjectModule.test_view) ... ok\n",
      "\n",
      "----------------------------------------------------------------------\n",
      "Ran 7 tests in 0.137s\n",
      "\n",
      "OK\n"
     ]
    },
    {
     "name": "stdout",
     "output_type": "stream",
     "text": [
      "Project 'P0001' added.\n",
      "Task 'T0001' added.\n",
      "Project 'P0001' added.\n",
      "Task 'T0001' added.\n",
      "Project 'P0001' added.\n",
      "Task 'T0001' added.\n",
      "Project 'P0001' added.\n",
      "Task 'T0001' added.\n",
      "Project 'P0001' added.\n",
      "Task 'T0001' added.\n",
      "Project 'P0001' added.\n",
      "Task 'T0001' added.\n",
      "Project 'P0001' added.\n",
      "Task 'T0001' added.\n"
     ]
    },
    {
     "data": {
      "text/plain": [
       "<unittest.main.TestProgram at 0x2af53cb3850>"
      ]
     },
     "execution_count": 28,
     "metadata": {},
     "output_type": "execute_result"
    }
   ],
   "source": [
    "unittest.main(argv=[''], verbosity=2, exit=False)"
   ]
  },
  {
   "cell_type": "code",
   "execution_count": null,
   "id": "795468d2",
   "metadata": {},
   "outputs": [],
   "source": []
  },
  {
   "cell_type": "code",
   "execution_count": null,
   "id": "7ea5e89f",
   "metadata": {},
   "outputs": [],
   "source": []
  }
 ],
 "metadata": {
  "kernelspec": {
   "display_name": "Python 3 (ipykernel)",
   "language": "python",
   "name": "python3"
  },
  "language_info": {
   "codemirror_mode": {
    "name": "ipython",
    "version": 3
   },
   "file_extension": ".py",
   "mimetype": "text/x-python",
   "name": "python",
   "nbconvert_exporter": "python",
   "pygments_lexer": "ipython3",
   "version": "3.11.2"
  }
 },
 "nbformat": 4,
 "nbformat_minor": 5
}
